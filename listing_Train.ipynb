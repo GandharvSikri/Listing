{
 "cells": [
  {
   "cell_type": "code",
   "execution_count": 1,
   "metadata": {},
   "outputs": [],
   "source": [
    "import pandas as pd\n",
    "import numpy as np\n",
    "from sklearn import preprocessing\n",
    "import matplotlib.pyplot as plt\n",
    "import seaborn as sns\n",
    "from sklearn.metrics import confusion_matrix, accuracy_score, classification_report\n",
    "from sklearn.tree import DecisionTreeClassifier\n",
    "from sklearn.model_selection import cross_val_score \n",
    "from sklearn.ensemble import RandomForestClassifier\n",
    "import xgboost\n",
    "from sklearn.model_selection import train_test_split\n",
    "from sklearn.feature_extraction.text import CountVectorizer\n",
    "import warnings\n",
    "warnings.filterwarnings('ignore')\n",
    "from sklearn.pipeline import make_pipeline\n",
    "from sklearn.preprocessing import Imputer\n",
    "from sklearn.preprocessing import StandardScaler\n",
    "from sklearn.model_selection import GridSearchCV"
   ]
  },
  {
   "cell_type": "code",
   "execution_count": 2,
   "metadata": {
    "scrolled": true
   },
   "outputs": [
    {
     "data": {
      "text/html": [
       "<div>\n",
       "<style scoped>\n",
       "    .dataframe tbody tr th:only-of-type {\n",
       "        vertical-align: middle;\n",
       "    }\n",
       "\n",
       "    .dataframe tbody tr th {\n",
       "        vertical-align: top;\n",
       "    }\n",
       "\n",
       "    .dataframe thead th {\n",
       "        text-align: right;\n",
       "    }\n",
       "</style>\n",
       "<table border=\"1\" class=\"dataframe\">\n",
       "  <thead>\n",
       "    <tr style=\"text-align: right;\">\n",
       "      <th></th>\n",
       "      <th>Unnamed: 0</th>\n",
       "      <th>ID</th>\n",
       "      <th>Name</th>\n",
       "      <th>Summary</th>\n",
       "      <th>Space</th>\n",
       "      <th>Description</th>\n",
       "      <th>Experiences_Offered</th>\n",
       "      <th>Neighborhood_Overview</th>\n",
       "      <th>Notes</th>\n",
       "      <th>Transit</th>\n",
       "      <th>...</th>\n",
       "      <th>Last_Review</th>\n",
       "      <th>License</th>\n",
       "      <th>Jurisdiction_Names</th>\n",
       "      <th>Cancellation_Policy</th>\n",
       "      <th>Calculated_host_listings_count</th>\n",
       "      <th>Reviews_per_Month</th>\n",
       "      <th>Geolocation</th>\n",
       "      <th>Features</th>\n",
       "      <th>Listing_Type</th>\n",
       "      <th>Rating</th>\n",
       "    </tr>\n",
       "  </thead>\n",
       "  <tbody>\n",
       "    <tr>\n",
       "      <th>0</th>\n",
       "      <td>70285</td>\n",
       "      <td>199681.0</td>\n",
       "      <td>Private room in sunny three bedroom</td>\n",
       "      <td>This apartment in the West Rogers Park (or Wes...</td>\n",
       "      <td>Hi there traveler.  Thanks for considering sta...</td>\n",
       "      <td>This apartment in the West Rogers Park (or Wes...</td>\n",
       "      <td>none</td>\n",
       "      <td>I love that my neighborhood is so quiet and lo...</td>\n",
       "      <td>NaN</td>\n",
       "      <td>Parking around here is very easy. You might wi...</td>\n",
       "      <td>...</td>\n",
       "      <td>2016-09-18</td>\n",
       "      <td>City registration pending</td>\n",
       "      <td>Illinois State, Cook County, IL, CHICAGO</td>\n",
       "      <td>moderate</td>\n",
       "      <td>4.0</td>\n",
       "      <td>1.34</td>\n",
       "      <td>41.9941700301, -87.6920295649</td>\n",
       "      <td>Host Has Profile Pic,Host Identity Verified,Re...</td>\n",
       "      <td>Good</td>\n",
       "      <td>67259.201267</td>\n",
       "    </tr>\n",
       "    <tr>\n",
       "      <th>1</th>\n",
       "      <td>44913</td>\n",
       "      <td>4216764.0</td>\n",
       "      <td>Lovely &amp; cute apartment</td>\n",
       "      <td>Lovely apartment for a couple or a single pers...</td>\n",
       "      <td>Interior desig in accordance with the Scandina...</td>\n",
       "      <td>Lovely apartment for a couple or a single pers...</td>\n",
       "      <td>none</td>\n",
       "      <td>Quite and peaceful neighborhood in the Frederi...</td>\n",
       "      <td>Please note that the bed is rather small (1,5 ...</td>\n",
       "      <td>Close to bus and the metro stations 'Frederiks...</td>\n",
       "      <td>...</td>\n",
       "      <td>2014-10-31</td>\n",
       "      <td>NaN</td>\n",
       "      <td>NaN</td>\n",
       "      <td>flexible</td>\n",
       "      <td>1.0</td>\n",
       "      <td>0.03</td>\n",
       "      <td>55.6913945558, 12.5352884346</td>\n",
       "      <td>Host Has Profile Pic</td>\n",
       "      <td>Good</td>\n",
       "      <td>58503.191267</td>\n",
       "    </tr>\n",
       "    <tr>\n",
       "      <th>2</th>\n",
       "      <td>154025</td>\n",
       "      <td>14879686.0</td>\n",
       "      <td>Unique house with a beautiful garden</td>\n",
       "      <td>Beautiful design cosy family house with a nice...</td>\n",
       "      <td>Beautiful garden, two level house (105 m2) nea...</td>\n",
       "      <td>Beautiful design cosy family house with a nice...</td>\n",
       "      <td>none</td>\n",
       "      <td>Nice multicultural neighbourhood with plenty o...</td>\n",
       "      <td>Since our house is designed to be child friend...</td>\n",
       "      <td>Tram and bus stops in a 5 minutes walk distanc...</td>\n",
       "      <td>...</td>\n",
       "      <td>2016-10-02</td>\n",
       "      <td>NaN</td>\n",
       "      <td>Amsterdam</td>\n",
       "      <td>strict</td>\n",
       "      <td>1.0</td>\n",
       "      <td>0.29</td>\n",
       "      <td>52.3689656398, 4.84983993143</td>\n",
       "      <td>Host Has Profile Pic,Is Location Exact</td>\n",
       "      <td>Good</td>\n",
       "      <td>58480.587448</td>\n",
       "    </tr>\n",
       "    <tr>\n",
       "      <th>3</th>\n",
       "      <td>281148</td>\n",
       "      <td>9879014.0</td>\n",
       "      <td>Résidence du 14 Rue des Sablons;</td>\n",
       "      <td>50 m2, un grand lit et un canapé lit deux plac...</td>\n",
       "      <td>NaN</td>\n",
       "      <td>50 m2, un grand lit et un canapé lit deux plac...</td>\n",
       "      <td>none</td>\n",
       "      <td>NaN</td>\n",
       "      <td>NaN</td>\n",
       "      <td>NaN</td>\n",
       "      <td>...</td>\n",
       "      <td>NaN</td>\n",
       "      <td>NaN</td>\n",
       "      <td>Paris</td>\n",
       "      <td>flexible</td>\n",
       "      <td>1.0</td>\n",
       "      <td>NaN</td>\n",
       "      <td>48.8663711212, 2.28291441119</td>\n",
       "      <td>Host Has Profile Pic,Is Location Exact</td>\n",
       "      <td>Bad</td>\n",
       "      <td>NaN</td>\n",
       "    </tr>\n",
       "    <tr>\n",
       "      <th>4</th>\n",
       "      <td>235251</td>\n",
       "      <td>14372222.0</td>\n",
       "      <td>Darling 2 story historical spanish</td>\n",
       "      <td>2 blocks from beach, 1 block from 2nd st</td>\n",
       "      <td>NaN</td>\n",
       "      <td>2 blocks from beach, 1 block from 2nd st Kitch...</td>\n",
       "      <td>none</td>\n",
       "      <td>NaN</td>\n",
       "      <td>NaN</td>\n",
       "      <td>Yes</td>\n",
       "      <td>...</td>\n",
       "      <td>NaN</td>\n",
       "      <td>NaN</td>\n",
       "      <td>NaN</td>\n",
       "      <td>flexible</td>\n",
       "      <td>1.0</td>\n",
       "      <td>NaN</td>\n",
       "      <td>33.7595912067, -118.138810843</td>\n",
       "      <td>Host Has Profile Pic</td>\n",
       "      <td>Bad</td>\n",
       "      <td>NaN</td>\n",
       "    </tr>\n",
       "  </tbody>\n",
       "</table>\n",
       "<p>5 rows × 73 columns</p>\n",
       "</div>"
      ],
      "text/plain": [
       "  Unnamed: 0          ID                                  Name  \\\n",
       "0      70285    199681.0   Private room in sunny three bedroom   \n",
       "1      44913   4216764.0               Lovely & cute apartment   \n",
       "2     154025  14879686.0  Unique house with a beautiful garden   \n",
       "3     281148   9879014.0      Résidence du 14 Rue des Sablons;   \n",
       "4     235251  14372222.0    Darling 2 story historical spanish   \n",
       "\n",
       "                                             Summary  \\\n",
       "0  This apartment in the West Rogers Park (or Wes...   \n",
       "1  Lovely apartment for a couple or a single pers...   \n",
       "2  Beautiful design cosy family house with a nice...   \n",
       "3  50 m2, un grand lit et un canapé lit deux plac...   \n",
       "4           2 blocks from beach, 1 block from 2nd st   \n",
       "\n",
       "                                               Space  \\\n",
       "0  Hi there traveler.  Thanks for considering sta...   \n",
       "1  Interior desig in accordance with the Scandina...   \n",
       "2  Beautiful garden, two level house (105 m2) nea...   \n",
       "3                                                NaN   \n",
       "4                                                NaN   \n",
       "\n",
       "                                         Description Experiences_Offered  \\\n",
       "0  This apartment in the West Rogers Park (or Wes...                none   \n",
       "1  Lovely apartment for a couple or a single pers...                none   \n",
       "2  Beautiful design cosy family house with a nice...                none   \n",
       "3  50 m2, un grand lit et un canapé lit deux plac...                none   \n",
       "4  2 blocks from beach, 1 block from 2nd st Kitch...                none   \n",
       "\n",
       "                               Neighborhood_Overview  \\\n",
       "0  I love that my neighborhood is so quiet and lo...   \n",
       "1  Quite and peaceful neighborhood in the Frederi...   \n",
       "2  Nice multicultural neighbourhood with plenty o...   \n",
       "3                                                NaN   \n",
       "4                                                NaN   \n",
       "\n",
       "                                               Notes  \\\n",
       "0                                                NaN   \n",
       "1  Please note that the bed is rather small (1,5 ...   \n",
       "2  Since our house is designed to be child friend...   \n",
       "3                                                NaN   \n",
       "4                                                NaN   \n",
       "\n",
       "                                             Transit      ...       \\\n",
       "0  Parking around here is very easy. You might wi...      ...        \n",
       "1  Close to bus and the metro stations 'Frederiks...      ...        \n",
       "2  Tram and bus stops in a 5 minutes walk distanc...      ...        \n",
       "3                                                NaN      ...        \n",
       "4                                                Yes      ...        \n",
       "\n",
       "  Last_Review                    License  \\\n",
       "0  2016-09-18  City registration pending   \n",
       "1  2014-10-31                        NaN   \n",
       "2  2016-10-02                        NaN   \n",
       "3         NaN                        NaN   \n",
       "4         NaN                        NaN   \n",
       "\n",
       "                         Jurisdiction_Names Cancellation_Policy  \\\n",
       "0  Illinois State, Cook County, IL, CHICAGO            moderate   \n",
       "1                                       NaN            flexible   \n",
       "2                                 Amsterdam              strict   \n",
       "3                                     Paris            flexible   \n",
       "4                                       NaN            flexible   \n",
       "\n",
       "  Calculated_host_listings_count Reviews_per_Month  \\\n",
       "0                            4.0              1.34   \n",
       "1                            1.0              0.03   \n",
       "2                            1.0              0.29   \n",
       "3                            1.0               NaN   \n",
       "4                            1.0               NaN   \n",
       "\n",
       "                     Geolocation  \\\n",
       "0  41.9941700301, -87.6920295649   \n",
       "1   55.6913945558, 12.5352884346   \n",
       "2   52.3689656398, 4.84983993143   \n",
       "3   48.8663711212, 2.28291441119   \n",
       "4  33.7595912067, -118.138810843   \n",
       "\n",
       "                                            Features  Listing_Type  \\\n",
       "0  Host Has Profile Pic,Host Identity Verified,Re...          Good   \n",
       "1                               Host Has Profile Pic          Good   \n",
       "2             Host Has Profile Pic,Is Location Exact          Good   \n",
       "3             Host Has Profile Pic,Is Location Exact           Bad   \n",
       "4                               Host Has Profile Pic           Bad   \n",
       "\n",
       "         Rating  \n",
       "0  67259.201267  \n",
       "1  58503.191267  \n",
       "2  58480.587448  \n",
       "3           NaN  \n",
       "4           NaN  \n",
       "\n",
       "[5 rows x 73 columns]"
      ]
     },
     "execution_count": 2,
     "metadata": {},
     "output_type": "execute_result"
    }
   ],
   "source": [
    "data = pd.read_csv(\"listings.csv\", delimiter=\";\")\n",
    "data.head()"
   ]
  },
  {
   "cell_type": "code",
   "execution_count": 29,
   "metadata": {},
   "outputs": [
    {
     "name": "stdout",
     "output_type": "stream",
     "text": [
      "<class 'pandas.core.frame.DataFrame'>\n",
      "RangeIndex: 341147 entries, 0 to 341146\n",
      "Data columns (total 73 columns):\n",
      "Unnamed: 0                        341147 non-null object\n",
      "ID                                281035 non-null object\n",
      "Name                              340843 non-null object\n",
      "Summary                           330066 non-null object\n",
      "Space                             239355 non-null object\n",
      "Description                       341040 non-null object\n",
      "Experiences_Offered               341147 non-null object\n",
      "Neighborhood_Overview             201313 non-null object\n",
      "Notes                             135623 non-null object\n",
      "Transit                           209960 non-null object\n",
      "Access                            185199 non-null object\n",
      "Interaction                       177176 non-null object\n",
      "House_Rules                       205030 non-null object\n",
      "Host_Name                         340783 non-null object\n",
      "Host_Since                        340783 non-null object\n",
      "Host_Location                     339552 non-null object\n",
      "Host_About                        204448 non-null object\n",
      "Host_Response_Time                261075 non-null object\n",
      "Host_Response_Rate                215159 non-null float64\n",
      "Host_Acceptance_Rate              29499 non-null object\n",
      "Host_Neighbourhood                255557 non-null object\n",
      "Host_Listings_Count               339843 non-null object\n",
      "Host_Total_Listings_Count         339843 non-null float64\n",
      "Street                            340207 non-null object\n",
      "Neighbourhood                     238434 non-null object\n",
      "Neighbourhood_Cleansed            340207 non-null object\n",
      "Neighbourhood_Group_Cleansed      71613 non-null object\n",
      "City                              339884 non-null object\n",
      "State                             305502 non-null object\n",
      "Zipcode                           326578 non-null object\n",
      "Market                            336225 non-null object\n",
      "Smart_Location                    340189 non-null object\n",
      "Country_Code                      340190 non-null object\n",
      "Country                           340197 non-null object\n",
      "Latitude                          280102 non-null float64\n",
      "Longitude                         280097 non-null float64\n",
      "Property_Type                     340202 non-null object\n",
      "Room_Type                         340207 non-null object\n",
      "Accommodates                      340167 non-null object\n",
      "Bathrooms                         339144 non-null float64\n",
      "Bedrooms                          339768 non-null float64\n",
      "Beds                              339547 non-null float64\n",
      "Bed_Type                          340207 non-null object\n",
      "Amenities                         337624 non-null object\n",
      "Square_Feet                       8222 non-null object\n",
      "Price                             275353 non-null float64\n",
      "Weekly_Price                      55155 non-null object\n",
      "Monthly_Price                     53889 non-null object\n",
      "Security_Deposit                  115773 non-null float64\n",
      "Cleaning_Fee                      176361 non-null object\n",
      "Guests_Included                   340207 non-null object\n",
      "Extra_People                      280078 non-null float64\n",
      "Minimum_Nights                    340207 non-null float64\n",
      "Maximum_Nights                    340203 non-null object\n",
      "Calendar_Updated                  340203 non-null object\n",
      "Has_Availability                  6436 non-null object\n",
      "Availability_30                   340207 non-null float64\n",
      "Availability_60                   340188 non-null float64\n",
      "Availability_90                   340188 non-null float64\n",
      "Availability_365                  340188 non-null float64\n",
      "Calendar_last_Scraped             340188 non-null object\n",
      "Number_of_Reviews                 340188 non-null float64\n",
      "First_Review                      256793 non-null object\n",
      "Last_Review                       256864 non-null object\n",
      "License                           10202 non-null object\n",
      "Jurisdiction_Names                94195 non-null object\n",
      "Cancellation_Policy               340188 non-null object\n",
      "Calculated_host_listings_count    339579 non-null float64\n",
      "Reviews_per_Month                 256793 non-null float64\n",
      "Geolocation                       280083 non-null object\n",
      "Features                          279913 non-null object\n",
      "Listing_Type                      340189 non-null object\n",
      "Rating                            251473 non-null float64\n",
      "dtypes: float64(19), object(54)\n",
      "memory usage: 190.0+ MB\n"
     ]
    }
   ],
   "source": [
    "data.info()"
   ]
  },
  {
   "cell_type": "markdown",
   "metadata": {},
   "source": [
    "## Feature Selection"
   ]
  },
  {
   "cell_type": "markdown",
   "metadata": {},
   "source": [
    "#### Take a look at Variables"
   ]
  },
  {
   "cell_type": "code",
   "execution_count": 3,
   "metadata": {
    "scrolled": true
   },
   "outputs": [
    {
     "name": "stdout",
     "output_type": "stream",
     "text": [
      "73\n",
      "Index(['Unnamed: 0', 'ID', 'Name', 'Summary', 'Space', 'Description',\n",
      "       'Experiences_Offered', 'Neighborhood_Overview', 'Notes', 'Transit',\n",
      "       'Access', 'Interaction', 'House_Rules', 'Host_Name', 'Host_Since',\n",
      "       'Host_Location', 'Host_About', 'Host_Response_Time',\n",
      "       'Host_Response_Rate', 'Host_Acceptance_Rate', 'Host_Neighbourhood',\n",
      "       'Host_Listings_Count', 'Host_Total_Listings_Count', 'Street',\n",
      "       'Neighbourhood', 'Neighbourhood_Cleansed',\n",
      "       'Neighbourhood_Group_Cleansed', 'City', 'State', 'Zipcode', 'Market',\n",
      "       'Smart_Location', 'Country_Code', 'Country', 'Latitude', 'Longitude',\n",
      "       'Property_Type', 'Room_Type', 'Accommodates', 'Bathrooms', 'Bedrooms',\n",
      "       'Beds', 'Bed_Type', 'Amenities', 'Square_Feet', 'Price', 'Weekly_Price',\n",
      "       'Monthly_Price', 'Security_Deposit', 'Cleaning_Fee', 'Guests_Included',\n",
      "       'Extra_People', 'Minimum_Nights', 'Maximum_Nights', 'Calendar_Updated',\n",
      "       'Has_Availability', 'Availability_30', 'Availability_60',\n",
      "       'Availability_90', 'Availability_365', 'Calendar_last_Scraped',\n",
      "       'Number_of_Reviews', 'First_Review', 'Last_Review', 'License',\n",
      "       'Jurisdiction_Names', 'Cancellation_Policy',\n",
      "       'Calculated_host_listings_count', 'Reviews_per_Month', 'Geolocation',\n",
      "       'Features', 'Listing_Type', 'Rating'],\n",
      "      dtype='object')\n"
     ]
    }
   ],
   "source": [
    "#Getting the data columns\n",
    "print(len(data.columns))\n",
    "print(data.columns)"
   ]
  },
  {
   "cell_type": "markdown",
   "metadata": {},
   "source": [
    "#### When we look at the variables, many of them are useless to us at this stage.Lets drop them."
   ]
  },
  {
   "cell_type": "code",
   "execution_count": 4,
   "metadata": {},
   "outputs": [
    {
     "name": "stdout",
     "output_type": "stream",
     "text": [
      "41\n",
      "Index(['Host_Response_Time', 'Host_Response_Rate', 'Host_Acceptance_Rate',\n",
      "       'Street', 'Neighbourhood', 'Neighbourhood_Cleansed',\n",
      "       'Neighbourhood_Group_Cleansed', 'Zipcode', 'Latitude', 'Longitude',\n",
      "       'Property_Type', 'Room_Type', 'Accommodates', 'Bathrooms', 'Bedrooms',\n",
      "       'Beds', 'Bed_Type', 'Amenities', 'Square_Feet', 'Price', 'Weekly_Price',\n",
      "       'Monthly_Price', 'Security_Deposit', 'Cleaning_Fee', 'Guests_Included',\n",
      "       'Extra_People', 'Minimum_Nights', 'Maximum_Nights', 'Has_Availability',\n",
      "       'Availability_30', 'Availability_60', 'Availability_90',\n",
      "       'Availability_365', 'Number_of_Reviews', 'License',\n",
      "       'Cancellation_Policy', 'Calculated_host_listings_count',\n",
      "       'Reviews_per_Month', 'Features', 'Listing_Type', 'Rating'],\n",
      "      dtype='object')\n"
     ]
    }
   ],
   "source": [
    "useless= ['Unnamed: 0', 'ID', 'Name', 'Summary', 'Space', 'Description',\n",
    "       'Experiences_Offered', 'Neighborhood_Overview', 'Notes', 'Transit',\n",
    "       'Access', 'Interaction', 'House_Rules', 'Host_Name', 'Host_Since',\n",
    "       'Host_Location', 'Host_About', 'Host_Neighbourhood',\n",
    "       'Host_Listings_Count', 'Host_Total_Listings_Count', 'City',\n",
    "       'State', 'Market', 'Smart_Location', 'Country_Code', 'Country',\n",
    "        'First_Review', 'Last_Review','Jurisdiction_Names','Geolocation','Calendar_last_Scraped','Calendar_Updated']\n",
    "newdata = data.copy()\n",
    "newdata= newdata.drop(useless,axis=1)\n",
    "print(len(newdata.columns))\n",
    "print(newdata.columns)"
   ]
  },
  {
   "cell_type": "markdown",
   "metadata": {},
   "source": [
    "### Now we are left with 41 features after dropping 32 useless features"
   ]
  },
  {
   "cell_type": "markdown",
   "metadata": {},
   "source": [
    "## Check if the Dataset is Balanced or not"
   ]
  },
  {
   "cell_type": "code",
   "execution_count": 5,
   "metadata": {},
   "outputs": [
    {
     "name": "stdout",
     "output_type": "stream",
     "text": [
      "Good    309045\n",
      "Bad      31144\n",
      "Name: Listing_Type, dtype: int64\n"
     ]
    }
   ],
   "source": [
    "print(newdata[\"Listing_Type\"].value_counts())"
   ]
  },
  {
   "cell_type": "markdown",
   "metadata": {},
   "source": [
    "######  Here the dataset is highly imbalanced. 10 % Bad & 90 % Good\n",
    "##### So we need to handle this imbalanced dataset.\n",
    "#####  We will use Algorithmic Ensemble Techniques - bagging and Boosting Technique to handle the dataset"
   ]
  },
  {
   "cell_type": "markdown",
   "metadata": {},
   "source": [
    "## Check for null values in output variable - Listing_Type\n",
    "#### If any and ratio is less , lets drop those rows"
   ]
  },
  {
   "cell_type": "code",
   "execution_count": 6,
   "metadata": {},
   "outputs": [
    {
     "name": "stdout",
     "output_type": "stream",
     "text": [
      "null values % in Listing Type is 0.0028081736025818782\n"
     ]
    }
   ],
   "source": [
    "print(\"null values % in Listing Type is {}\".format(newdata[\"Listing_Type\"].isnull().sum()/len(newdata)))"
   ]
  },
  {
   "cell_type": "markdown",
   "metadata": {},
   "source": [
    "Lets drop 0.2 % values"
   ]
  },
  {
   "cell_type": "code",
   "execution_count": 7,
   "metadata": {},
   "outputs": [
    {
     "name": "stdout",
     "output_type": "stream",
     "text": [
      "341147\n",
      "340189\n"
     ]
    }
   ],
   "source": [
    "print(len(newdata))\n",
    "newdata = newdata.dropna(subset=[\"Listing_Type\"])\n",
    "print(len(newdata))"
   ]
  },
  {
   "cell_type": "markdown",
   "metadata": {},
   "source": [
    "\n",
    "## Check for Null Data Values\n",
    "#### Plot histogram\n"
   ]
  },
  {
   "cell_type": "code",
   "execution_count": 8,
   "metadata": {},
   "outputs": [],
   "source": [
    "percentage_missing_data = newdata.isnull().sum()/ len(newdata)"
   ]
  },
  {
   "cell_type": "code",
   "execution_count": 9,
   "metadata": {},
   "outputs": [
    {
     "data": {
      "image/png": "[encoded data removed]",
      "text/plain": [
       "<Figure size 1152x360 with 1 Axes>"
      ]
     },
     "metadata": {
      "needs_background": "light"
     },
     "output_type": "display_data"
    }
   ],
   "source": [
    "axis = percentage_missing_data.plot(kind=\"bar\", color=\"#E35A5C\", figsize=(16,5))\n",
    "axis.set_xlabel(\"Feature\")\n",
    "axis.set_ylabel(\"Null Percentage\")\n",
    "plt.show()"
   ]
  },
  {
   "cell_type": "markdown",
   "metadata": {},
   "source": [
    "Observation here:\n",
    "Many have around 90% empty data, lets drop them\n",
    "lets drop the dataset where null >30%"
   ]
  },
  {
   "cell_type": "code",
   "execution_count": 10,
   "metadata": {
    "scrolled": true
   },
   "outputs": [
    {
     "name": "stdout",
     "output_type": "stream",
     "text": [
      "10\n",
      "Index(['Host_Response_Rate', 'Host_Acceptance_Rate',\n",
      "       'Neighbourhood_Group_Cleansed', 'Square_Feet', 'Weekly_Price',\n",
      "       'Monthly_Price', 'Security_Deposit', 'Cleaning_Fee', 'Has_Availability',\n",
      "       'License'],\n",
      "      dtype='object')\n",
      "31\n",
      "Index(['Host_Response_Time', 'Street', 'Neighbourhood',\n",
      "       'Neighbourhood_Cleansed', 'Zipcode', 'Latitude', 'Longitude',\n",
      "       'Property_Type', 'Room_Type', 'Accommodates', 'Bathrooms', 'Bedrooms',\n",
      "       'Beds', 'Bed_Type', 'Amenities', 'Price', 'Guests_Included',\n",
      "       'Extra_People', 'Minimum_Nights', 'Maximum_Nights', 'Availability_30',\n",
      "       'Availability_60', 'Availability_90', 'Availability_365',\n",
      "       'Number_of_Reviews', 'Cancellation_Policy',\n",
      "       'Calculated_host_listings_count', 'Reviews_per_Month', 'Features',\n",
      "       'Listing_Type', 'Rating'],\n",
      "      dtype='object')\n"
     ]
    }
   ],
   "source": [
    "null_columns = percentage_missing_data[percentage_missing_data > 0.3].index\n",
    "print(len(null_columns))\n",
    "print(null_columns)\n",
    "newdata= newdata.drop(null_columns,axis=1)\n",
    "print(len(newdata.columns))\n",
    "print(newdata.columns)"
   ]
  },
  {
   "cell_type": "markdown",
   "metadata": {},
   "source": [
    "# Now we have 31 Features to work with after dropping 11 columns which had 30% or more null values"
   ]
  },
  {
   "cell_type": "markdown",
   "metadata": {},
   "source": [
    "### Check for Sparsh Categorical Data"
   ]
  },
  {
   "cell_type": "code",
   "execution_count": 11,
   "metadata": {},
   "outputs": [
    {
     "data": {
      "image/png": "[encoded data removed]",
      "text/plain": [
       "<Figure size 1152x360 with 1 Axes>"
      ]
     },
     "metadata": {
      "needs_background": "light"
     },
     "output_type": "display_data"
    }
   ],
   "source": [
    "cat_col = newdata.columns[newdata.dtypes ==\"object\"]\n",
    "percentage_unique_data = newdata[cat_col].nunique()/ len(newdata)\n",
    "\n",
    "axis = percentage_unique_data.plot(kind=\"bar\", color=\"#E35A5C\", figsize=(16,5))\n",
    "axis.set_xlabel(\"Feature\")\n",
    "axis.set_ylabel(\"Unique data Percentage\")\n",
    "plt.show()"
   ]
  },
  {
   "cell_type": "markdown",
   "metadata": {},
   "source": [
    "### Lets look at Data Distributon for Street, zipcode"
   ]
  },
  {
   "cell_type": "code",
   "execution_count": 12,
   "metadata": {},
   "outputs": [
    {
     "name": "stdout",
     "output_type": "stream",
     "text": [
      "unique values  % in street 0.25497003136491775\n"
     ]
    }
   ],
   "source": [
    "print(\"unique values  % in street {}\".format(newdata[\"Street\"].nunique()/len(newdata)))"
   ]
  },
  {
   "cell_type": "code",
   "execution_count": 13,
   "metadata": {},
   "outputs": [
    {
     "name": "stdout",
     "output_type": "stream",
     "text": [
      "unique values  % in zipcode 0.11946006484630603\n"
     ]
    }
   ],
   "source": [
    "print(\"unique values  % in zipcode {}\".format(newdata[\"Zipcode\"].nunique()/len(newdata)))"
   ]
  },
  {
   "cell_type": "markdown",
   "metadata": {},
   "source": [
    "### We will drop these too because they are too dirty"
   ]
  },
  {
   "cell_type": "code",
   "execution_count": 14,
   "metadata": {},
   "outputs": [
    {
     "name": "stdout",
     "output_type": "stream",
     "text": [
      "29\n",
      "Index(['Host_Response_Time', 'Neighbourhood', 'Neighbourhood_Cleansed',\n",
      "       'Latitude', 'Longitude', 'Property_Type', 'Room_Type', 'Accommodates',\n",
      "       'Bathrooms', 'Bedrooms', 'Beds', 'Bed_Type', 'Amenities', 'Price',\n",
      "       'Guests_Included', 'Extra_People', 'Minimum_Nights', 'Maximum_Nights',\n",
      "       'Availability_30', 'Availability_60', 'Availability_90',\n",
      "       'Availability_365', 'Number_of_Reviews', 'Cancellation_Policy',\n",
      "       'Calculated_host_listings_count', 'Reviews_per_Month', 'Features',\n",
      "       'Listing_Type', 'Rating'],\n",
      "      dtype='object')\n"
     ]
    }
   ],
   "source": [
    "useless= ['Street','Zipcode']\n",
    "newdata= newdata.drop(useless,axis=1)\n",
    "print(len(newdata.columns))\n",
    "print(newdata.columns)"
   ]
  },
  {
   "cell_type": "markdown",
   "metadata": {},
   "source": [
    "## Lets Look at Amenities"
   ]
  },
  {
   "cell_type": "code",
   "execution_count": 15,
   "metadata": {},
   "outputs": [
    {
     "data": {
      "text/plain": [
       "0    TV,Internet,Wireless Internet,Air conditioning...\n",
       "1    Internet,Kitchen,Pets live on this property,Do...\n",
       "2    TV,Internet,Wireless Internet,Kitchen,Heating,...\n",
       "3    TV,Cable TV,Internet,Wireless Internet,Air con...\n",
       "4                                                  NaN\n",
       "Name: Amenities, dtype: object"
      ]
     },
     "execution_count": 15,
     "metadata": {},
     "output_type": "execute_result"
    }
   ],
   "source": [
    "newdata[\"Amenities\"].head()"
   ]
  },
  {
   "cell_type": "markdown",
   "metadata": {},
   "source": [
    "#### This Data can be splitted into different values ---> Tv, Washing Machine etc"
   ]
  },
  {
   "cell_type": "code",
   "execution_count": 16,
   "metadata": {},
   "outputs": [
    {
     "name": "stdout",
     "output_type": "stream",
     "text": [
      "% of na values in Amenities 0.007595777641252363\n"
     ]
    },
    {
     "data": {
      "text/plain": [
       "340189"
      ]
     },
     "execution_count": 16,
     "metadata": {},
     "output_type": "execute_result"
    }
   ],
   "source": [
    "print(\"% of na values in Amenities {}\".format(newdata[\"Amenities\"].isnull().sum()/ len(newdata)))\n",
    "len(newdata)"
   ]
  },
  {
   "cell_type": "markdown",
   "metadata": {},
   "source": [
    "\n",
    "### Thats a very less 1%, lets drop null values for Amenities"
   ]
  },
  {
   "cell_type": "code",
   "execution_count": 17,
   "metadata": {},
   "outputs": [
    {
     "name": "stdout",
     "output_type": "stream",
     "text": [
      "340189\n",
      "337605\n"
     ]
    }
   ],
   "source": [
    "print(len(newdata))\n",
    "newdata = newdata.dropna(subset=[\"Amenities\"])\n",
    "print(len(newdata))"
   ]
  },
  {
   "cell_type": "code",
   "execution_count": 18,
   "metadata": {},
   "outputs": [],
   "source": [
    "## function to split data into different columns\n",
    "amenities_count=[]\n",
    "def splitValues_To_Columns(data):\n",
    "\n",
    "    data = data.str.split(\",\")\n",
    "    corpus= []\n",
    "    for i in range(0,len(data)):\n",
    "        temp = [x.replace(' ','') for x in data.iloc[i]]\n",
    "        temp = [x.replace('-','') for x in temp]\n",
    "        amenities_count.append(len(temp))\n",
    "        temp = \" \".join(temp)\n",
    "        corpus.append(temp)\n",
    "        \n",
    "    return corpus\n"
   ]
  },
  {
   "cell_type": "code",
   "execution_count": 19,
   "metadata": {},
   "outputs": [
    {
     "name": "stdout",
     "output_type": "stream",
     "text": [
      "All amenities are:\n",
      "['24hourcheckin', 'accessibleheightbed', 'accessibleheighttoilet', 'airconditioning', 'babybath', 'babymonitor', 'babysitterrecommendations', 'bathtub', 'bbqgrill', 'beachessentials', 'beachfront', 'bedlinens', 'breakfast', 'buzzer', 'cabletv', 'carbonmonoxidedetector', 'cat', 'changingtable', 'children', 'cleaningbeforecheckout', 'coffeemaker', 'cookingbasics', 'crib', 'disabledparkingspot', 'dishesandsilverware', 'dishwasher', 'dog', 'doorman', 'doormanentry', 'dryer', 'elevatorinbuilding', 'en', 'essentials', 'ethernetconnection', 'evcharger', 'extrapillowsandblankets', 'family', 'fireextinguisher', 'fireplaceguards', 'firmmatress', 'firmmattress', 'firstaidkit', 'flatsmoothpathwaytofrontdoor', 'freeparkingonpremises', 'freeparkingonstreet', 'gameconsole', 'gardenorbackyard', 'grabrailsforshowerandtoilet', 'gym', 'hairdryer', 'hangers', 'heating', 'highchair', 'hostgreetsyou', 'hosting_amenity_49', 'hosting_amenity_50', 'hottub', 'hotwater', 'indoorfireplace', 'internet', 'iron', 'keypad', 'kidfriendly', 'kitchen', 'lakeaccess', 'laptopfriendlyworkspace', 'lockbox', 'lockonbedroomdoor', 'longtermstaysallowed', 'luggagedropoffallowed', 'microwave', 'nplay', 'other', 'otherpet', 'outletcovers', 'oven', 'pack', 'paidparkingoffpremises', 'pathtoentrancelitatnight', 'patioorbalcony', 'petsallowed', 'petsliveonthisproperty', 'pocketwifi', 'pool', 'privatebathroom', 'privateentrance', 'privatelivingroom', 'refrigerator', 'rollinshowerwithshowerbenchorchair', 'roomdarkeningshades', 'safetycard', 'sbooksandtoys', 'sdinnerware', 'selfcheckin', 'shampoo', 'singlelevelhome', 'smartlock', 'smokedetector', 'smokingallowed', 'stairgates', 'stepfreeaccess', 'stove', 'suitableforevents', 'tablecornerguards', 'translationmissing', 'travelcrib', 'tubwithshowerbench', 'tv', 'washer', 'waterfront', 'wheelchairaccessible', 'wideclearancetobed', 'wideclearancetoshowerandtoilet', 'widedoorway', 'widehallwayclearance', 'windowguards', 'wirelessintercom', 'wirelessinternet']\n",
      "Matrix looks like\n",
      "(337605, 118)\n",
      "[[0 0 0 ... 0 0 1]\n",
      " [0 0 0 ... 0 1 0]\n",
      " [0 0 0 ... 0 0 1]\n",
      " ...\n",
      " [0 0 0 ... 0 1 1]\n",
      " [0 0 0 ... 0 0 1]\n",
      " [0 0 0 ... 0 0 1]]\n"
     ]
    }
   ],
   "source": [
    "vectorizer = CountVectorizer()\n",
    "amenities = vectorizer.fit_transform(splitValues_To_Columns(newdata[\"Amenities\"]))\n",
    "print(\"All amenities are:\")\n",
    "print(vectorizer.get_feature_names())\n",
    "print(\"Matrix looks like\")\n",
    "print(amenities.shape)\n",
    "print(amenities.toarray())\n"
   ]
  },
  {
   "cell_type": "markdown",
   "metadata": {},
   "source": [
    "## Let's create column having Amenities Count\n"
   ]
  },
  {
   "cell_type": "code",
   "execution_count": 20,
   "metadata": {},
   "outputs": [
    {
     "data": {
      "text/html": [
       "<div>\n",
       "<style scoped>\n",
       "    .dataframe tbody tr th:only-of-type {\n",
       "        vertical-align: middle;\n",
       "    }\n",
       "\n",
       "    .dataframe tbody tr th {\n",
       "        vertical-align: top;\n",
       "    }\n",
       "\n",
       "    .dataframe thead th {\n",
       "        text-align: right;\n",
       "    }\n",
       "</style>\n",
       "<table border=\"1\" class=\"dataframe\">\n",
       "  <thead>\n",
       "    <tr style=\"text-align: right;\">\n",
       "      <th></th>\n",
       "      <th>Host_Response_Time</th>\n",
       "      <th>Neighbourhood</th>\n",
       "      <th>Neighbourhood_Cleansed</th>\n",
       "      <th>Latitude</th>\n",
       "      <th>Longitude</th>\n",
       "      <th>Property_Type</th>\n",
       "      <th>Room_Type</th>\n",
       "      <th>Accommodates</th>\n",
       "      <th>Bathrooms</th>\n",
       "      <th>Bedrooms</th>\n",
       "      <th>...</th>\n",
       "      <th>Availability_90</th>\n",
       "      <th>Availability_365</th>\n",
       "      <th>Number_of_Reviews</th>\n",
       "      <th>Cancellation_Policy</th>\n",
       "      <th>Calculated_host_listings_count</th>\n",
       "      <th>Reviews_per_Month</th>\n",
       "      <th>Features</th>\n",
       "      <th>Listing_Type</th>\n",
       "      <th>Rating</th>\n",
       "      <th>Amenities_Count</th>\n",
       "    </tr>\n",
       "  </thead>\n",
       "  <tbody>\n",
       "    <tr>\n",
       "      <th>0</th>\n",
       "      <td>within an hour</td>\n",
       "      <td>Avondale</td>\n",
       "      <td>West Ridge</td>\n",
       "      <td>41.994170</td>\n",
       "      <td>-87.692030</td>\n",
       "      <td>Apartment</td>\n",
       "      <td>Private room</td>\n",
       "      <td>2.0</td>\n",
       "      <td>1.0</td>\n",
       "      <td>1.0</td>\n",
       "      <td>...</td>\n",
       "      <td>83.0</td>\n",
       "      <td>126.0</td>\n",
       "      <td>93.0</td>\n",
       "      <td>moderate</td>\n",
       "      <td>4.0</td>\n",
       "      <td>1.34</td>\n",
       "      <td>Host Has Profile Pic,Host Identity Verified,Re...</td>\n",
       "      <td>Good</td>\n",
       "      <td>67259.201267</td>\n",
       "      <td>15.0</td>\n",
       "    </tr>\n",
       "    <tr>\n",
       "      <th>1</th>\n",
       "      <td>NaN</td>\n",
       "      <td>NaN</td>\n",
       "      <td>Frederiksberg</td>\n",
       "      <td>55.691395</td>\n",
       "      <td>12.535288</td>\n",
       "      <td>Apartment</td>\n",
       "      <td>Entire home/apt</td>\n",
       "      <td>2.0</td>\n",
       "      <td>1.0</td>\n",
       "      <td>1.0</td>\n",
       "      <td>...</td>\n",
       "      <td>0.0</td>\n",
       "      <td>165.0</td>\n",
       "      <td>1.0</td>\n",
       "      <td>flexible</td>\n",
       "      <td>1.0</td>\n",
       "      <td>0.03</td>\n",
       "      <td>Host Has Profile Pic</td>\n",
       "      <td>Good</td>\n",
       "      <td>58503.191267</td>\n",
       "      <td>11.0</td>\n",
       "    </tr>\n",
       "    <tr>\n",
       "      <th>2</th>\n",
       "      <td>within a day</td>\n",
       "      <td>NaN</td>\n",
       "      <td>De Baarsjes - Oud-West</td>\n",
       "      <td>52.368966</td>\n",
       "      <td>4.849840</td>\n",
       "      <td>Apartment</td>\n",
       "      <td>Entire home/apt</td>\n",
       "      <td>4.0</td>\n",
       "      <td>1.0</td>\n",
       "      <td>2.0</td>\n",
       "      <td>...</td>\n",
       "      <td>7.0</td>\n",
       "      <td>7.0</td>\n",
       "      <td>2.0</td>\n",
       "      <td>strict</td>\n",
       "      <td>1.0</td>\n",
       "      <td>0.29</td>\n",
       "      <td>Host Has Profile Pic,Is Location Exact</td>\n",
       "      <td>Good</td>\n",
       "      <td>58480.587448</td>\n",
       "      <td>14.0</td>\n",
       "    </tr>\n",
       "    <tr>\n",
       "      <th>3</th>\n",
       "      <td>NaN</td>\n",
       "      <td>Passy</td>\n",
       "      <td>Passy</td>\n",
       "      <td>48.866371</td>\n",
       "      <td>2.282914</td>\n",
       "      <td>Apartment</td>\n",
       "      <td>Entire home/apt</td>\n",
       "      <td>4.0</td>\n",
       "      <td>1.0</td>\n",
       "      <td>1.0</td>\n",
       "      <td>...</td>\n",
       "      <td>0.0</td>\n",
       "      <td>0.0</td>\n",
       "      <td>0.0</td>\n",
       "      <td>flexible</td>\n",
       "      <td>1.0</td>\n",
       "      <td>NaN</td>\n",
       "      <td>Host Has Profile Pic,Is Location Exact</td>\n",
       "      <td>Bad</td>\n",
       "      <td>NaN</td>\n",
       "      <td>24.0</td>\n",
       "    </tr>\n",
       "    <tr>\n",
       "      <th>5</th>\n",
       "      <td>NaN</td>\n",
       "      <td>La Latina</td>\n",
       "      <td>Embajadores</td>\n",
       "      <td>40.407510</td>\n",
       "      <td>-3.707988</td>\n",
       "      <td>House</td>\n",
       "      <td>Entire home/apt</td>\n",
       "      <td>2.0</td>\n",
       "      <td>1.0</td>\n",
       "      <td>1.0</td>\n",
       "      <td>...</td>\n",
       "      <td>0.0</td>\n",
       "      <td>0.0</td>\n",
       "      <td>1.0</td>\n",
       "      <td>flexible</td>\n",
       "      <td>1.0</td>\n",
       "      <td>0.02</td>\n",
       "      <td>Host Has Profile Pic,Is Location Exact,Require...</td>\n",
       "      <td>Bad</td>\n",
       "      <td>NaN</td>\n",
       "      <td>17.0</td>\n",
       "    </tr>\n",
       "  </tbody>\n",
       "</table>\n",
       "<p>5 rows × 30 columns</p>\n",
       "</div>"
      ],
      "text/plain": [
       "  Host_Response_Time Neighbourhood  Neighbourhood_Cleansed   Latitude  \\\n",
       "0     within an hour      Avondale              West Ridge  41.994170   \n",
       "1                NaN           NaN           Frederiksberg  55.691395   \n",
       "2       within a day           NaN  De Baarsjes - Oud-West  52.368966   \n",
       "3                NaN         Passy                   Passy  48.866371   \n",
       "5                NaN     La Latina             Embajadores  40.407510   \n",
       "\n",
       "   Longitude Property_Type        Room_Type Accommodates  Bathrooms  Bedrooms  \\\n",
       "0 -87.692030     Apartment     Private room          2.0        1.0       1.0   \n",
       "1  12.535288     Apartment  Entire home/apt          2.0        1.0       1.0   \n",
       "2   4.849840     Apartment  Entire home/apt          4.0        1.0       2.0   \n",
       "3   2.282914     Apartment  Entire home/apt          4.0        1.0       1.0   \n",
       "5  -3.707988         House  Entire home/apt          2.0        1.0       1.0   \n",
       "\n",
       "        ...         Availability_90 Availability_365 Number_of_Reviews  \\\n",
       "0       ...                    83.0            126.0              93.0   \n",
       "1       ...                     0.0            165.0               1.0   \n",
       "2       ...                     7.0              7.0               2.0   \n",
       "3       ...                     0.0              0.0               0.0   \n",
       "5       ...                     0.0              0.0               1.0   \n",
       "\n",
       "   Cancellation_Policy Calculated_host_listings_count  Reviews_per_Month  \\\n",
       "0             moderate                            4.0               1.34   \n",
       "1             flexible                            1.0               0.03   \n",
       "2               strict                            1.0               0.29   \n",
       "3             flexible                            1.0                NaN   \n",
       "5             flexible                            1.0               0.02   \n",
       "\n",
       "                                            Features Listing_Type  \\\n",
       "0  Host Has Profile Pic,Host Identity Verified,Re...         Good   \n",
       "1                               Host Has Profile Pic         Good   \n",
       "2             Host Has Profile Pic,Is Location Exact         Good   \n",
       "3             Host Has Profile Pic,Is Location Exact          Bad   \n",
       "5  Host Has Profile Pic,Is Location Exact,Require...          Bad   \n",
       "\n",
       "         Rating  Amenities_Count  \n",
       "0  67259.201267             15.0  \n",
       "1  58503.191267             11.0  \n",
       "2  58480.587448             14.0  \n",
       "3           NaN             24.0  \n",
       "5           NaN             17.0  \n",
       "\n",
       "[5 rows x 30 columns]"
      ]
     },
     "execution_count": 20,
     "metadata": {},
     "output_type": "execute_result"
    }
   ],
   "source": [
    "newdata[\"Amenities_Count\"] = pd.Series(amenities_count)\n",
    "newdata.head()"
   ]
  },
  {
   "cell_type": "markdown",
   "metadata": {},
   "source": [
    "## Lets look at \"Features\" column"
   ]
  },
  {
   "cell_type": "code",
   "execution_count": 21,
   "metadata": {},
   "outputs": [
    {
     "name": "stdout",
     "output_type": "stream",
     "text": [
      "% of na values in Features 0.17851631344322508\n"
     ]
    }
   ],
   "source": [
    "print(\"% of na values in Features {}\".format(newdata[\"Features\"].isnull().sum()/ len(newdata)))"
   ]
  },
  {
   "cell_type": "markdown",
   "metadata": {},
   "source": [
    "## 17 % data is too much to drop for null values in features. \n",
    "So we prefer to drop the column."
   ]
  },
  {
   "cell_type": "code",
   "execution_count": 22,
   "metadata": {},
   "outputs": [
    {
     "name": "stdout",
     "output_type": "stream",
     "text": [
      "29\n"
     ]
    }
   ],
   "source": [
    "useless= ['Features']\n",
    "newdata= newdata.drop(useless,axis=1)\n",
    "print(len(newdata.columns))"
   ]
  },
  {
   "cell_type": "markdown",
   "metadata": {},
   "source": [
    "### Create df for Amenties word array and merge to to dataset in the final steps"
   ]
  },
  {
   "cell_type": "code",
   "execution_count": 23,
   "metadata": {},
   "outputs": [
    {
     "data": {
      "text/html": [
       "<div>\n",
       "<style scoped>\n",
       "    .dataframe tbody tr th:only-of-type {\n",
       "        vertical-align: middle;\n",
       "    }\n",
       "\n",
       "    .dataframe tbody tr th {\n",
       "        vertical-align: top;\n",
       "    }\n",
       "\n",
       "    .dataframe thead th {\n",
       "        text-align: right;\n",
       "    }\n",
       "</style>\n",
       "<table border=\"1\" class=\"dataframe\">\n",
       "  <thead>\n",
       "    <tr style=\"text-align: right;\">\n",
       "      <th></th>\n",
       "      <th>0</th>\n",
       "      <th>1</th>\n",
       "      <th>2</th>\n",
       "      <th>3</th>\n",
       "      <th>4</th>\n",
       "      <th>5</th>\n",
       "      <th>6</th>\n",
       "      <th>7</th>\n",
       "      <th>8</th>\n",
       "      <th>9</th>\n",
       "      <th>...</th>\n",
       "      <th>108</th>\n",
       "      <th>109</th>\n",
       "      <th>110</th>\n",
       "      <th>111</th>\n",
       "      <th>112</th>\n",
       "      <th>113</th>\n",
       "      <th>114</th>\n",
       "      <th>115</th>\n",
       "      <th>116</th>\n",
       "      <th>117</th>\n",
       "    </tr>\n",
       "  </thead>\n",
       "  <tbody>\n",
       "    <tr>\n",
       "      <th>0</th>\n",
       "      <td>0</td>\n",
       "      <td>0</td>\n",
       "      <td>0</td>\n",
       "      <td>1</td>\n",
       "      <td>0</td>\n",
       "      <td>0</td>\n",
       "      <td>0</td>\n",
       "      <td>0</td>\n",
       "      <td>0</td>\n",
       "      <td>0</td>\n",
       "      <td>...</td>\n",
       "      <td>1</td>\n",
       "      <td>0</td>\n",
       "      <td>0</td>\n",
       "      <td>0</td>\n",
       "      <td>0</td>\n",
       "      <td>0</td>\n",
       "      <td>0</td>\n",
       "      <td>0</td>\n",
       "      <td>0</td>\n",
       "      <td>1</td>\n",
       "    </tr>\n",
       "    <tr>\n",
       "      <th>1</th>\n",
       "      <td>0</td>\n",
       "      <td>0</td>\n",
       "      <td>0</td>\n",
       "      <td>0</td>\n",
       "      <td>0</td>\n",
       "      <td>0</td>\n",
       "      <td>0</td>\n",
       "      <td>0</td>\n",
       "      <td>0</td>\n",
       "      <td>0</td>\n",
       "      <td>...</td>\n",
       "      <td>1</td>\n",
       "      <td>0</td>\n",
       "      <td>0</td>\n",
       "      <td>0</td>\n",
       "      <td>0</td>\n",
       "      <td>0</td>\n",
       "      <td>0</td>\n",
       "      <td>0</td>\n",
       "      <td>1</td>\n",
       "      <td>0</td>\n",
       "    </tr>\n",
       "    <tr>\n",
       "      <th>2</th>\n",
       "      <td>0</td>\n",
       "      <td>0</td>\n",
       "      <td>0</td>\n",
       "      <td>0</td>\n",
       "      <td>0</td>\n",
       "      <td>0</td>\n",
       "      <td>0</td>\n",
       "      <td>0</td>\n",
       "      <td>0</td>\n",
       "      <td>0</td>\n",
       "      <td>...</td>\n",
       "      <td>1</td>\n",
       "      <td>0</td>\n",
       "      <td>0</td>\n",
       "      <td>0</td>\n",
       "      <td>0</td>\n",
       "      <td>0</td>\n",
       "      <td>0</td>\n",
       "      <td>0</td>\n",
       "      <td>0</td>\n",
       "      <td>1</td>\n",
       "    </tr>\n",
       "    <tr>\n",
       "      <th>3</th>\n",
       "      <td>1</td>\n",
       "      <td>0</td>\n",
       "      <td>0</td>\n",
       "      <td>1</td>\n",
       "      <td>0</td>\n",
       "      <td>0</td>\n",
       "      <td>0</td>\n",
       "      <td>0</td>\n",
       "      <td>0</td>\n",
       "      <td>0</td>\n",
       "      <td>...</td>\n",
       "      <td>1</td>\n",
       "      <td>0</td>\n",
       "      <td>1</td>\n",
       "      <td>0</td>\n",
       "      <td>0</td>\n",
       "      <td>0</td>\n",
       "      <td>0</td>\n",
       "      <td>0</td>\n",
       "      <td>1</td>\n",
       "      <td>1</td>\n",
       "    </tr>\n",
       "    <tr>\n",
       "      <th>4</th>\n",
       "      <td>0</td>\n",
       "      <td>0</td>\n",
       "      <td>0</td>\n",
       "      <td>1</td>\n",
       "      <td>0</td>\n",
       "      <td>0</td>\n",
       "      <td>0</td>\n",
       "      <td>0</td>\n",
       "      <td>0</td>\n",
       "      <td>0</td>\n",
       "      <td>...</td>\n",
       "      <td>1</td>\n",
       "      <td>0</td>\n",
       "      <td>0</td>\n",
       "      <td>0</td>\n",
       "      <td>0</td>\n",
       "      <td>0</td>\n",
       "      <td>0</td>\n",
       "      <td>0</td>\n",
       "      <td>1</td>\n",
       "      <td>0</td>\n",
       "    </tr>\n",
       "  </tbody>\n",
       "</table>\n",
       "<p>5 rows × 118 columns</p>\n",
       "</div>"
      ],
      "text/plain": [
       "   0    1    2    3    4    5    6    7    8    9   ...   108  109  110  111  \\\n",
       "0    0    0    0    1    0    0    0    0    0    0 ...     1    0    0    0   \n",
       "1    0    0    0    0    0    0    0    0    0    0 ...     1    0    0    0   \n",
       "2    0    0    0    0    0    0    0    0    0    0 ...     1    0    0    0   \n",
       "3    1    0    0    1    0    0    0    0    0    0 ...     1    0    1    0   \n",
       "4    0    0    0    1    0    0    0    0    0    0 ...     1    0    0    0   \n",
       "\n",
       "   112  113  114  115  116  117  \n",
       "0    0    0    0    0    0    1  \n",
       "1    0    0    0    0    1    0  \n",
       "2    0    0    0    0    0    1  \n",
       "3    0    0    0    0    1    1  \n",
       "4    0    0    0    0    1    0  \n",
       "\n",
       "[5 rows x 118 columns]"
      ]
     },
     "execution_count": 23,
     "metadata": {},
     "output_type": "execute_result"
    }
   ],
   "source": [
    "amenities_df = pd.DataFrame(data = amenities.toarray())\n",
    "amenities_df.head()"
   ]
  },
  {
   "cell_type": "markdown",
   "metadata": {},
   "source": [
    "### Lets look at remaining 29 columns"
   ]
  },
  {
   "cell_type": "code",
   "execution_count": 24,
   "metadata": {},
   "outputs": [
    {
     "name": "stdout",
     "output_type": "stream",
     "text": [
      "Index(['Host_Response_Time', 'Neighbourhood', 'Neighbourhood_Cleansed',\n",
      "       'Latitude', 'Longitude', 'Property_Type', 'Room_Type', 'Accommodates',\n",
      "       'Bathrooms', 'Bedrooms', 'Beds', 'Bed_Type', 'Amenities', 'Price',\n",
      "       'Guests_Included', 'Extra_People', 'Minimum_Nights', 'Maximum_Nights',\n",
      "       'Availability_30', 'Availability_60', 'Availability_90',\n",
      "       'Availability_365', 'Number_of_Reviews', 'Cancellation_Policy',\n",
      "       'Calculated_host_listings_count', 'Reviews_per_Month', 'Listing_Type',\n",
      "       'Rating', 'Amenities_Count'],\n",
      "      dtype='object')\n"
     ]
    }
   ],
   "source": [
    "print(newdata.columns)"
   ]
  },
  {
   "cell_type": "markdown",
   "metadata": {},
   "source": [
    "### Lets look at Neighbourhood_Cleansed"
   ]
  },
  {
   "cell_type": "code",
   "execution_count": 25,
   "metadata": {},
   "outputs": [],
   "source": [
    "counts_per_neighbourhood = newdata[\"Neighbourhood_Cleansed\"].value_counts()"
   ]
  },
  {
   "cell_type": "code",
   "execution_count": 27,
   "metadata": {},
   "outputs": [
    {
     "data": {
      "image/png": "[encoded data removed]",
      "text/plain": [
       "<Figure size 1440x360 with 1 Axes>"
      ]
     },
     "metadata": {
      "needs_background": "light"
     },
     "output_type": "display_data"
    }
   ],
   "source": [
    "axis = counts_per_neighbourhood.plot(kind=\"bar\", color=\"blue\", figsize=(20,5))\n",
    "axis.set_xlabel(\"Feature\")\n",
    "axis.set_ylabel(\"Percentage\")\n",
    "plt.show()"
   ]
  },
  {
   "cell_type": "code",
   "execution_count": 28,
   "metadata": {},
   "outputs": [
    {
     "name": "stdout",
     "output_type": "stream",
     "text": [
      "<class 'pandas.core.frame.DataFrame'>\n",
      "Int64Index: 337605 entries, 0 to 341146\n",
      "Data columns (total 29 columns):\n",
      "Host_Response_Time                259759 non-null object\n",
      "Neighbourhood                     237332 non-null object\n",
      "Neighbourhood_Cleansed            337605 non-null object\n",
      "Latitude                          277500 non-null float64\n",
      "Longitude                         277500 non-null float64\n",
      "Property_Type                     337600 non-null object\n",
      "Room_Type                         337605 non-null object\n",
      "Accommodates                      337566 non-null object\n",
      "Bathrooms                         336819 non-null float64\n",
      "Bedrooms                          337174 non-null float64\n",
      "Beds                              337139 non-null float64\n",
      "Bed_Type                          337605 non-null object\n",
      "Amenities                         337605 non-null object\n",
      "Price                             272808 non-null float64\n",
      "Guests_Included                   337605 non-null object\n",
      "Extra_People                      277476 non-null float64\n",
      "Minimum_Nights                    337605 non-null float64\n",
      "Maximum_Nights                    337605 non-null object\n",
      "Availability_30                   337605 non-null float64\n",
      "Availability_60                   337605 non-null float64\n",
      "Availability_90                   337605 non-null float64\n",
      "Availability_365                  337605 non-null float64\n",
      "Number_of_Reviews                 337605 non-null float64\n",
      "Cancellation_Policy               337605 non-null object\n",
      "Calculated_host_listings_count    337016 non-null float64\n",
      "Reviews_per_Month                 255843 non-null float64\n",
      "Listing_Type                      337605 non-null object\n",
      "Rating                            250577 non-null float64\n",
      "Amenities_Count                   334090 non-null float64\n",
      "dtypes: float64(17), object(12)\n",
      "memory usage: 77.3+ MB\n"
     ]
    }
   ],
   "source": [
    "newdata.info()"
   ]
  },
  {
   "cell_type": "markdown",
   "metadata": {},
   "source": [
    " ## Lets replace all theNeighbourhood_Cleansed as \"Other\" if count is < 1000 or null"
   ]
  },
  {
   "cell_type": "code",
   "execution_count": null,
   "metadata": {},
   "outputs": [],
   "source": [
    "print(\"null data in Neighbourhood_Cleansed is {} \".format(newdata[\"Neighbourhood_Cleansed\"].isnull().sum()))\n",
    "newdata[\"Neighbourhood_Cleansed\"] = newdata[\"Neighbourhood_Cleansed\"].replace(np.nan, \"Other\")\n",
    "print(\"After replacing null data with 0, Neighbourhood_Cleansed null count is {} \".format(newdata[\"Neighbourhood_Cleansed\"].isnull().sum()))"
   ]
  },
  {
   "cell_type": "code",
   "execution_count": null,
   "metadata": {},
   "outputs": [],
   "source": [
    "neighbourhood_unique_data =newdata[\"Neighbourhood_Cleansed\"].value_counts()"
   ]
  },
  {
   "cell_type": "code",
   "execution_count": null,
   "metadata": {},
   "outputs": [],
   "source": [
    "#neighbourhood_unique_data =newdata[\"Neighbourhood_Cleansed\"].value_counts()\n",
    "newdata[\"Neighbourhood_Cleansed\"] = newdata[\"Neighbourhood_Cleansed\"].apply(lambda x : \"Other\" if (neighbourhood_unique_data[x]<1000) else x)"
   ]
  },
  {
   "cell_type": "code",
   "execution_count": null,
   "metadata": {},
   "outputs": [],
   "source": [
    "counts_per_neighbourhood = newdata[\"Neighbourhood_Cleansed\"].value_counts()\n",
    "axis = counts_per_neighbourhood.plot(kind=\"bar\", color=\"blue\", figsize=(20,5))\n",
    "axis.set_xlabel(\"Feature\")\n",
    "axis.set_ylabel(\"Percentage\")\n",
    "plt.show()"
   ]
  },
  {
   "cell_type": "markdown",
   "metadata": {},
   "source": [
    "### It is very dirty and we have latitude & longitude for our localtoin, so we can remove this too "
   ]
  },
  {
   "cell_type": "code",
   "execution_count": null,
   "metadata": {},
   "outputs": [],
   "source": [
    "useless= ['Neighbourhood_Cleansed']\n",
    "newdata= newdata.drop(useless,axis=1)\n",
    "print(len(newdata.columns))"
   ]
  },
  {
   "cell_type": "markdown",
   "metadata": {},
   "source": [
    "## After all this cleaning , lets see for null values for 28 columns"
   ]
  },
  {
   "cell_type": "code",
   "execution_count": null,
   "metadata": {},
   "outputs": [],
   "source": [
    "percentage_missing_data = newdata.isnull().sum()/ len(newdata)"
   ]
  },
  {
   "cell_type": "code",
   "execution_count": null,
   "metadata": {},
   "outputs": [],
   "source": [
    "axis = percentage_missing_data.plot(kind=\"bar\", color=\"#E35A5C\", figsize=(16,5))\n",
    "axis.set_xlabel(\"Feature\")\n",
    "axis.set_ylabel(\"Null Percentage\")\n",
    "axis.set_ylim(0,1)\n",
    "plt.show()"
   ]
  },
  {
   "cell_type": "markdown",
   "metadata": {},
   "source": [
    "##### All the Numerical columns which have major null values can be replaced by theie mean value."
   ]
  },
  {
   "cell_type": "code",
   "execution_count": null,
   "metadata": {},
   "outputs": [],
   "source": [
    "numerics = ['int16', 'int32', 'int64', 'float16', 'float32', 'float64']\n",
    "print(len(newdata.columns))\n",
    "for i in range(0, len(newdata.columns)):\n",
    "    if (newdata.iloc[:,i].dtype  in numerics):\n",
    "        newdata.iloc[:,i] = newdata.iloc[:,i].replace(np.nan, newdata.iloc[:,i].mean())\n"
   ]
  },
  {
   "cell_type": "code",
   "execution_count": null,
   "metadata": {},
   "outputs": [],
   "source": [
    "percentage_missing_data = newdata.isnull().sum()/ len(newdata)\n",
    "\n",
    "axis = percentage_missing_data.plot(kind=\"bar\", color=\"#E35A5C\", figsize=(16,5))\n",
    "axis.set_xlabel(\"Feature\")\n",
    "axis.set_ylabel(\"Null Percentage\")\n",
    "plt.show()"
   ]
  },
  {
   "cell_type": "code",
   "execution_count": null,
   "metadata": {},
   "outputs": [],
   "source": [
    "useless= ['Neighbourhood','Host_Response_Time']\n",
    "newdata= newdata.drop(useless,axis=1)\n",
    "print(len(newdata.columns))"
   ]
  },
  {
   "cell_type": "markdown",
   "metadata": {},
   "source": [
    "Now all the null values present in **Categorical Columns**\n",
    "We can't replace 20% rows\n",
    "So we will use ML Algorithm which can handle NA values - **XgBoost**"
   ]
  },
  {
   "cell_type": "markdown",
   "metadata": {},
   "source": [
    "#### We are left with 28 columns"
   ]
  },
  {
   "cell_type": "markdown",
   "metadata": {},
   "source": [
    "## Corelation in Features"
   ]
  },
  {
   "cell_type": "code",
   "execution_count": null,
   "metadata": {},
   "outputs": [],
   "source": [
    "corr_matrix  = newdata.corr()\n",
    "corr_matrix"
   ]
  },
  {
   "cell_type": "markdown",
   "metadata": {},
   "source": [
    "## Lets Visualize"
   ]
  },
  {
   "cell_type": "code",
   "execution_count": null,
   "metadata": {},
   "outputs": [],
   "source": [
    "plt.figure(figsize=(10,10))\n",
    "plt.pcolor(corr_matrix, cmap=\"RdBu\")\n",
    "plt.xlabel(\"PI\")\n",
    "plt.ylabel(\"PI\")\n",
    "plt.title(\"Heatmap of Corr matrix\")\n",
    "plt.colorbar()\n",
    "plt.show()"
   ]
  },
  {
   "cell_type": "code",
   "execution_count": null,
   "metadata": {},
   "outputs": [],
   "source": [
    "sort = corr_matrix.abs().unstack()\n",
    "sort = sort.sort_values(kind=\"quicksort\", ascending=False)\n",
    "sort[(sort>0.6) & (sort<1)]"
   ]
  },
  {
   "cell_type": "markdown",
   "metadata": {},
   "source": [
    "## Lets see!!!\n",
    "Availability_30, Availability_60 and Availability_90 are related with Availability_365\n",
    "\n",
    "So we can drop these three"
   ]
  },
  {
   "cell_type": "code",
   "execution_count": null,
   "metadata": {},
   "outputs": [],
   "source": [
    "print(len(newdata.columns))\n",
    "print(newdata.columns)\n",
    "useless= ['Availability_30','Availability_60','Availability_90']\n",
    "newdata= newdata.drop(useless,axis=1)\n",
    "print(len(newdata.columns))\n",
    "print(newdata.columns)"
   ]
  },
  {
   "cell_type": "code",
   "execution_count": null,
   "metadata": {},
   "outputs": [],
   "source": [
    "useless= ['Beds']\n",
    "newdata= newdata.drop(useless,axis=1)\n",
    "print(len(newdata.columns))\n",
    "print(newdata.columns)"
   ]
  },
  {
   "cell_type": "markdown",
   "metadata": {},
   "source": [
    "## One hot encoding For Categorical Values"
   ]
  },
  {
   "cell_type": "markdown",
   "metadata": {},
   "source": [
    "## Checking the Categorical data"
   ]
  },
  {
   "cell_type": "code",
   "execution_count": null,
   "metadata": {},
   "outputs": [],
   "source": [
    "cat_col = newdata.columns[newdata.dtypes ==\"object\"]\n",
    "print(cat_col)\n",
    "newdata.loc[:,cat_col].head()"
   ]
  },
  {
   "cell_type": "markdown",
   "metadata": {},
   "source": [
    "If you notice, The values in column **Accommodates**, **Guests_Included** & **Maximum_Nights** are numericals"
   ]
  },
  {
   "cell_type": "code",
   "execution_count": null,
   "metadata": {},
   "outputs": [],
   "source": [
    "for c in [\"Accommodates\",\"Guests_Included\",\"Maximum_Nights\"]:\n",
    "    newdata[c] = pd.to_numeric(newdata[c], errors='coerce')"
   ]
  },
  {
   "cell_type": "markdown",
   "metadata": {},
   "source": [
    "## Property_Type Distribution"
   ]
  },
  {
   "cell_type": "code",
   "execution_count": null,
   "metadata": {},
   "outputs": [],
   "source": [
    "counts_per_property_type = newdata[\"Property_Type\"].value_counts()\n",
    "axis = counts_per_property_type.plot(kind=\"bar\", color=\"blue\", figsize=(20,5))\n",
    "axis.set_xlabel(\"Feature\")\n",
    "axis.set_ylabel(\"Percentage\")\n",
    "plt.show()"
   ]
  },
  {
   "cell_type": "code",
   "execution_count": null,
   "metadata": {},
   "outputs": [],
   "source": [
    "newdata[\"Property_Type\"] = newdata[\"Property_Type\"].replace(np.nan, \"Other\")\n",
    "counts_per_property_type = newdata[\"Property_Type\"].value_counts()"
   ]
  },
  {
   "cell_type": "code",
   "execution_count": null,
   "metadata": {},
   "outputs": [],
   "source": [
    "newdata[\"Property_Type\"] = newdata[\"Property_Type\"].apply(lambda x : \"Other\" if (counts_per_property_type[x]<1000) else x)"
   ]
  },
  {
   "cell_type": "code",
   "execution_count": null,
   "metadata": {},
   "outputs": [],
   "source": [
    "counts_per_property_type = newdata[\"Property_Type\"].value_counts()\n",
    "axis = counts_per_property_type.plot(kind=\"bar\", color=\"blue\", figsize=(20,5))\n",
    "axis.set_xlabel(\"Property Type\")\n",
    "axis.set_ylabel(\"Percentage\")\n",
    "plt.show()"
   ]
  },
  {
   "cell_type": "markdown",
   "metadata": {},
   "source": [
    "## Room_Type Distribution"
   ]
  },
  {
   "cell_type": "code",
   "execution_count": null,
   "metadata": {},
   "outputs": [],
   "source": [
    "counts_per_room_type = newdata[\"Room_Type\"].value_counts()\n",
    "axis = counts_per_room_type.plot(kind=\"bar\", color=\"blue\", figsize=(20,5))\n",
    "axis.set_xlabel(\"Room type\")\n",
    "axis.set_ylabel(\"Percentage\")\n",
    "plt.show()"
   ]
  },
  {
   "cell_type": "code",
   "execution_count": null,
   "metadata": {},
   "outputs": [],
   "source": [
    "newdata[\"Room_Type\"] = newdata[\"Room_Type\"].replace(np.nan, \"Other\")\n",
    "counts_per_room_type = newdata[\"Room_Type\"].value_counts()\n",
    "newdata[\"Room_Type\"] = newdata[\"Room_Type\"].apply(lambda x : \"Other\" if (counts_per_room_type[x]<10000) else x)\n",
    "counts_per_room_type = newdata[\"Room_Type\"].value_counts()\n",
    "axis = counts_per_room_type.plot(kind=\"bar\", color=\"blue\", figsize=(20,5))\n",
    "axis.set_xlabel(\"Room Type\")\n",
    "axis.set_ylabel(\"Percentage\")\n",
    "plt.show()"
   ]
  },
  {
   "cell_type": "markdown",
   "metadata": {},
   "source": [
    "## Bed_Type Distribution"
   ]
  },
  {
   "cell_type": "code",
   "execution_count": null,
   "metadata": {},
   "outputs": [],
   "source": [
    "counts_per_bed_type = newdata[\"Bed_Type\"].value_counts()\n",
    "axis = counts_per_bed_type.plot(kind=\"bar\", figsize=(20,5))\n",
    "axis.set_xlabel(\"Bed type\")\n",
    "axis.set_ylabel(\"Percentage\")\n",
    "plt.show()"
   ]
  },
  {
   "cell_type": "code",
   "execution_count": null,
   "metadata": {},
   "outputs": [],
   "source": [
    "newdata[\"Bed_Type\"] = newdata[\"Bed_Type\"].replace(np.nan, \"Other\")\n",
    "counts_per_bed_type = newdata[\"Bed_Type\"].value_counts()\n",
    "newdata[\"Bed_Type\"] = newdata[\"Bed_Type\"].apply(lambda x : \"Other\" if (counts_per_bed_type[x]<1000) else x)\n",
    "counts_per_bed_type = newdata[\"Bed_Type\"].value_counts()\n",
    "axis = counts_per_bed_type.plot(kind=\"bar\", color=\"blue\", figsize=(20,5))\n",
    "axis.set_xlabel(\"Bed Type\")\n",
    "axis.set_ylabel(\"Percentage\")\n",
    "plt.show()"
   ]
  },
  {
   "cell_type": "markdown",
   "metadata": {},
   "source": [
    "## Cancellation_Policy Distribution"
   ]
  },
  {
   "cell_type": "code",
   "execution_count": null,
   "metadata": {},
   "outputs": [],
   "source": [
    "counts_per_policy_type = newdata[\"Cancellation_Policy\"].value_counts()\n",
    "axis = counts_per_policy_type.plot(kind=\"bar\", figsize=(20,5), color=\"#E35A5C\")\n",
    "axis.set_xlabel(\"Cancellation_Policy\")\n",
    "axis.set_ylabel(\"Percentage\")\n",
    "plt.show()"
   ]
  },
  {
   "cell_type": "code",
   "execution_count": null,
   "metadata": {},
   "outputs": [],
   "source": [
    "newdata[\"Cancellation_Policy\"] = newdata[\"Cancellation_Policy\"].replace(np.nan, \"Other\")\n",
    "counts_per_policy_type = newdata[\"Cancellation_Policy\"].value_counts()\n",
    "newdata[\"Cancellation_Policy\"] = newdata[\"Cancellation_Policy\"].apply(lambda x : \"Other\" if (counts_per_policy_type[x]<900) else x)\n",
    "counts_per_policy_type = newdata[\"Cancellation_Policy\"].value_counts()\n",
    "axis = counts_per_policy_type.plot(kind=\"bar\", figsize=(20,5),color=\"#E35A5C\")\n",
    "axis.set_xlabel(\"Cancellation_Policy Type\")\n",
    "axis.set_ylabel(\"Percentage\")\n",
    "plt.show()"
   ]
  },
  {
   "cell_type": "markdown",
   "metadata": {},
   "source": [
    "## Now categorical data is properly distributed for doing One hot encoding"
   ]
  },
  {
   "cell_type": "code",
   "execution_count": 30,
   "metadata": {},
   "outputs": [
    {
     "name": "stdout",
     "output_type": "stream",
     "text": [
      "Before DF size: (337605, 29)\n",
      "After DF size: (337605, 5607)\n"
     ]
    }
   ],
   "source": [
    "Y = newdata[\"Listing_Type\"]\n",
    "print(\"Before DF size: {}\".format(newdata.shape))\n",
    "newdata = pd.get_dummies(newdata.drop([\"Amenities\",\"Listing_Type\"], axis=1), drop_first=True)\n",
    "print(\"After DF size: {}\".format(newdata.shape))"
   ]
  },
  {
   "cell_type": "code",
   "execution_count": 32,
   "metadata": {},
   "outputs": [
    {
     "data": {
      "text/html": [
       "<div>\n",
       "<style scoped>\n",
       "    .dataframe tbody tr th:only-of-type {\n",
       "        vertical-align: middle;\n",
       "    }\n",
       "\n",
       "    .dataframe tbody tr th {\n",
       "        vertical-align: top;\n",
       "    }\n",
       "\n",
       "    .dataframe thead th {\n",
       "        text-align: right;\n",
       "    }\n",
       "</style>\n",
       "<table border=\"1\" class=\"dataframe\">\n",
       "  <thead>\n",
       "    <tr style=\"text-align: right;\">\n",
       "      <th></th>\n",
       "      <th>Latitude</th>\n",
       "      <th>Longitude</th>\n",
       "      <th>Bathrooms</th>\n",
       "      <th>Bedrooms</th>\n",
       "      <th>Beds</th>\n",
       "      <th>Price</th>\n",
       "      <th>Extra_People</th>\n",
       "      <th>Minimum_Nights</th>\n",
       "      <th>Availability_30</th>\n",
       "      <th>Availability_60</th>\n",
       "      <th>...</th>\n",
       "      <th>Cancellation_Policy_long_term</th>\n",
       "      <th>Cancellation_Policy_moderate</th>\n",
       "      <th>Cancellation_Policy_moderate_new</th>\n",
       "      <th>Cancellation_Policy_no_refunds</th>\n",
       "      <th>Cancellation_Policy_strict</th>\n",
       "      <th>Cancellation_Policy_strict_new</th>\n",
       "      <th>Cancellation_Policy_super_strict_30</th>\n",
       "      <th>Cancellation_Policy_super_strict_30_new</th>\n",
       "      <th>Cancellation_Policy_super_strict_60</th>\n",
       "      <th>Cancellation_Policy_super_strict_60_new</th>\n",
       "    </tr>\n",
       "  </thead>\n",
       "  <tbody>\n",
       "    <tr>\n",
       "      <th>0</th>\n",
       "      <td>41.994170</td>\n",
       "      <td>-87.692030</td>\n",
       "      <td>1.0</td>\n",
       "      <td>1.0</td>\n",
       "      <td>1.0</td>\n",
       "      <td>50.0</td>\n",
       "      <td>9.0</td>\n",
       "      <td>2.0</td>\n",
       "      <td>23.0</td>\n",
       "      <td>53.0</td>\n",
       "      <td>...</td>\n",
       "      <td>0</td>\n",
       "      <td>1</td>\n",
       "      <td>0</td>\n",
       "      <td>0</td>\n",
       "      <td>0</td>\n",
       "      <td>0</td>\n",
       "      <td>0</td>\n",
       "      <td>0</td>\n",
       "      <td>0</td>\n",
       "      <td>0</td>\n",
       "    </tr>\n",
       "    <tr>\n",
       "      <th>1</th>\n",
       "      <td>55.691395</td>\n",
       "      <td>12.535288</td>\n",
       "      <td>1.0</td>\n",
       "      <td>1.0</td>\n",
       "      <td>1.0</td>\n",
       "      <td>371.0</td>\n",
       "      <td>0.0</td>\n",
       "      <td>1.0</td>\n",
       "      <td>0.0</td>\n",
       "      <td>0.0</td>\n",
       "      <td>...</td>\n",
       "      <td>0</td>\n",
       "      <td>0</td>\n",
       "      <td>0</td>\n",
       "      <td>0</td>\n",
       "      <td>0</td>\n",
       "      <td>0</td>\n",
       "      <td>0</td>\n",
       "      <td>0</td>\n",
       "      <td>0</td>\n",
       "      <td>0</td>\n",
       "    </tr>\n",
       "    <tr>\n",
       "      <th>2</th>\n",
       "      <td>52.368966</td>\n",
       "      <td>4.849840</td>\n",
       "      <td>1.0</td>\n",
       "      <td>2.0</td>\n",
       "      <td>4.0</td>\n",
       "      <td>145.0</td>\n",
       "      <td>0.0</td>\n",
       "      <td>3.0</td>\n",
       "      <td>0.0</td>\n",
       "      <td>0.0</td>\n",
       "      <td>...</td>\n",
       "      <td>0</td>\n",
       "      <td>0</td>\n",
       "      <td>0</td>\n",
       "      <td>0</td>\n",
       "      <td>1</td>\n",
       "      <td>0</td>\n",
       "      <td>0</td>\n",
       "      <td>0</td>\n",
       "      <td>0</td>\n",
       "      <td>0</td>\n",
       "    </tr>\n",
       "    <tr>\n",
       "      <th>3</th>\n",
       "      <td>48.866371</td>\n",
       "      <td>2.282914</td>\n",
       "      <td>1.0</td>\n",
       "      <td>1.0</td>\n",
       "      <td>2.0</td>\n",
       "      <td>115.0</td>\n",
       "      <td>0.0</td>\n",
       "      <td>5.0</td>\n",
       "      <td>0.0</td>\n",
       "      <td>0.0</td>\n",
       "      <td>...</td>\n",
       "      <td>0</td>\n",
       "      <td>0</td>\n",
       "      <td>0</td>\n",
       "      <td>0</td>\n",
       "      <td>0</td>\n",
       "      <td>0</td>\n",
       "      <td>0</td>\n",
       "      <td>0</td>\n",
       "      <td>0</td>\n",
       "      <td>0</td>\n",
       "    </tr>\n",
       "    <tr>\n",
       "      <th>5</th>\n",
       "      <td>40.407510</td>\n",
       "      <td>-3.707988</td>\n",
       "      <td>1.0</td>\n",
       "      <td>1.0</td>\n",
       "      <td>1.0</td>\n",
       "      <td>100.0</td>\n",
       "      <td>0.0</td>\n",
       "      <td>1.0</td>\n",
       "      <td>0.0</td>\n",
       "      <td>0.0</td>\n",
       "      <td>...</td>\n",
       "      <td>0</td>\n",
       "      <td>0</td>\n",
       "      <td>0</td>\n",
       "      <td>0</td>\n",
       "      <td>0</td>\n",
       "      <td>0</td>\n",
       "      <td>0</td>\n",
       "      <td>0</td>\n",
       "      <td>0</td>\n",
       "      <td>0</td>\n",
       "    </tr>\n",
       "  </tbody>\n",
       "</table>\n",
       "<p>5 rows × 5607 columns</p>\n",
       "</div>"
      ],
      "text/plain": [
       "    Latitude  Longitude  Bathrooms  Bedrooms  Beds  Price  Extra_People  \\\n",
       "0  41.994170 -87.692030        1.0       1.0   1.0   50.0           9.0   \n",
       "1  55.691395  12.535288        1.0       1.0   1.0  371.0           0.0   \n",
       "2  52.368966   4.849840        1.0       2.0   4.0  145.0           0.0   \n",
       "3  48.866371   2.282914        1.0       1.0   2.0  115.0           0.0   \n",
       "5  40.407510  -3.707988        1.0       1.0   1.0  100.0           0.0   \n",
       "\n",
       "   Minimum_Nights  Availability_30  Availability_60  \\\n",
       "0             2.0             23.0             53.0   \n",
       "1             1.0              0.0              0.0   \n",
       "2             3.0              0.0              0.0   \n",
       "3             5.0              0.0              0.0   \n",
       "5             1.0              0.0              0.0   \n",
       "\n",
       "                    ...                     Cancellation_Policy_long_term  \\\n",
       "0                   ...                                                 0   \n",
       "1                   ...                                                 0   \n",
       "2                   ...                                                 0   \n",
       "3                   ...                                                 0   \n",
       "5                   ...                                                 0   \n",
       "\n",
       "   Cancellation_Policy_moderate  Cancellation_Policy_moderate_new  \\\n",
       "0                             1                                 0   \n",
       "1                             0                                 0   \n",
       "2                             0                                 0   \n",
       "3                             0                                 0   \n",
       "5                             0                                 0   \n",
       "\n",
       "   Cancellation_Policy_no_refunds  Cancellation_Policy_strict  \\\n",
       "0                               0                           0   \n",
       "1                               0                           0   \n",
       "2                               0                           1   \n",
       "3                               0                           0   \n",
       "5                               0                           0   \n",
       "\n",
       "   Cancellation_Policy_strict_new  Cancellation_Policy_super_strict_30  \\\n",
       "0                               0                                    0   \n",
       "1                               0                                    0   \n",
       "2                               0                                    0   \n",
       "3                               0                                    0   \n",
       "5                               0                                    0   \n",
       "\n",
       "   Cancellation_Policy_super_strict_30_new  \\\n",
       "0                                        0   \n",
       "1                                        0   \n",
       "2                                        0   \n",
       "3                                        0   \n",
       "5                                        0   \n",
       "\n",
       "   Cancellation_Policy_super_strict_60  \\\n",
       "0                                    0   \n",
       "1                                    0   \n",
       "2                                    0   \n",
       "3                                    0   \n",
       "5                                    0   \n",
       "\n",
       "   Cancellation_Policy_super_strict_60_new  \n",
       "0                                        0  \n",
       "1                                        0  \n",
       "2                                        0  \n",
       "3                                        0  \n",
       "5                                        0  \n",
       "\n",
       "[5 rows x 5607 columns]"
      ]
     },
     "execution_count": 32,
     "metadata": {},
     "output_type": "execute_result"
    }
   ],
   "source": [
    "newdata.head()"
   ]
  },
  {
   "cell_type": "markdown",
   "metadata": {},
   "source": [
    "## Now after Visualizind , cleaning and converting we are ready to train our model"
   ]
  },
  {
   "cell_type": "markdown",
   "metadata": {},
   "source": [
    "# Modelling"
   ]
  },
  {
   "cell_type": "markdown",
   "metadata": {},
   "source": [
    "## XGboost"
   ]
  },
  {
   "cell_type": "code",
   "execution_count": null,
   "metadata": {},
   "outputs": [],
   "source": [
    "## Default Parameters with Cross Validation\n",
    "X = newdata"
   ]
  },
  {
   "cell_type": "code",
   "execution_count": null,
   "metadata": {},
   "outputs": [],
   "source": [
    "xmodel = xgboost.XGBClassifier()\n",
    "score = cross_val_score(xmodel,X,Y,cv=10)\n",
    "print(score)\n",
    "print(score.mean())"
   ]
  },
  {
   "cell_type": "markdown",
   "metadata": {},
   "source": [
    "# Shuffle & Split"
   ]
  },
  {
   "cell_type": "code",
   "execution_count": null,
   "metadata": {},
   "outputs": [],
   "source": [
    "X_Train, X_Test, Y_Train, Y_Test = train_test_split(X,Y,test_size=0.3)"
   ]
  },
  {
   "cell_type": "markdown",
   "metadata": {},
   "source": [
    "#  Feature importance"
   ]
  },
  {
   "cell_type": "code",
   "execution_count": null,
   "metadata": {},
   "outputs": [],
   "source": [
    "rfc = RandomForestClassifier(n_estimators=100, n_jobs = -1, criterion=\"entropy\",oob_score=True)"
   ]
  },
  {
   "cell_type": "code",
   "execution_count": null,
   "metadata": {},
   "outputs": [],
   "source": [
    "tempdata = pd.concat([X,Y],axis=1)\n",
    "tempdata=tempdata.dropna(axis=0)\n",
    "Xt = tempdata.drop(\"Listing_Type\",axis=1)\n",
    "Yt = tempdata[\"Listing_Type\"]"
   ]
  },
  {
   "cell_type": "code",
   "execution_count": null,
   "metadata": {
    "scrolled": true
   },
   "outputs": [],
   "source": [
    "rfc.fit(Xt,Yt)"
   ]
  },
  {
   "cell_type": "code",
   "execution_count": null,
   "metadata": {},
   "outputs": [],
   "source": [
    "feat_imp = rfc.feature_importances_\n",
    "feat_imp = pd.DataFrame({\"features\":Xt.columns.values,\"importance\":feat_imp})\n",
    "feat_imp.sort_values(\"importance\", ascending=False).head(10)"
   ]
  },
  {
   "cell_type": "markdown",
   "metadata": {},
   "source": [
    "# HyperParmeter Tuning"
   ]
  },
  {
   "cell_type": "markdown",
   "metadata": {},
   "source": [
    "We had some good results with the default hyperparameters of the XGBOOST classifier But we can improve the results with some hyperparameter tuning. There are two main methods available for this:\n",
    "\n",
    "Random search\n",
    "\n",
    "Grid search."
   ]
  },
  {
   "cell_type": "code",
   "execution_count": null,
   "metadata": {},
   "outputs": [],
   "source": [
    "from pprint import pprint\n",
    "# Look at parameters used by our current xg boost\n",
    "print('Parameters currently used:\\n')\n",
    "pprint(xmodel.get_params())"
   ]
  },
  {
   "cell_type": "markdown",
   "metadata": {},
   "source": [
    "# XGBOOST\n",
    "## Grid Search"
   ]
  },
  {
   "cell_type": "code",
   "execution_count": null,
   "metadata": {},
   "outputs": [],
   "source": [
    "param_grid = {'learning_rate': [0.1, 0.05], \n",
    "              'max_depth': [5, 7],\n",
    "              'n_estimators': [100, 500, 900]}\n",
    "\n",
    "# Instantiate the grid search model\n",
    "xmodel = xgboost.XGBClassifier()\n",
    "grid_search = GridSearchCV(estimator = xmodel,\n",
    "                           param_grid = param_grid, \n",
    "                           cv = 3, n_jobs = -1, verbose = 2, )\n",
    "\n",
    "# Fit the grid search to the data\n",
    "grid_search.fit(X_Train, Y_Train)\n",
    "\n",
    "grid_search.best_params_\n",
    "#scoring = 'neg_median_absolute_error'"
   ]
  },
  {
   "cell_type": "markdown",
   "metadata": {},
   "source": [
    "## Best Features are:\n",
    "{'learning_rate': 0.05, 'max_depth': 7, 'n_estimators': 500}"
   ]
  },
  {
   "cell_type": "markdown",
   "metadata": {},
   "source": [
    "## XGBOOST\n",
    "## Final Model"
   ]
  },
  {
   "cell_type": "code",
   "execution_count": null,
   "metadata": {},
   "outputs": [],
   "source": [
    "# Create the pipeline: Imputation + Scale + XGB Classifier\n",
    "xmodel = make_pipeline(Imputer(), StandardScaler(), \n",
    "                                     xgboost.XGBClassifier(random_state = 42,\n",
    "                                                  learning_rate = 0.05,\n",
    "                                                  max_depth = 7,\n",
    "                                                  n_estimators = 500))\n",
    "\n",
    "# Fit the model\n",
    "xmodel.fit(X_Train, Y_Train)\n",
    "Y_Pred = xmodel.predict(X_Test)"
   ]
  },
  {
   "cell_type": "code",
   "execution_count": null,
   "metadata": {},
   "outputs": [],
   "source": [
    "acc = accuracy_score(Y_Test,Y_Pred)\n",
    "print(\"Accuarcy of XG Boost  is {}\".format(acc))\n",
    "cfm = confusion_matrix(Y_Test,Y_Pred) #(actual vs predicted always)\n",
    "print(cfm)\n",
    "print(\"Confusion Matrix of XG Boost is\\n {}\".format(acc))\n",
    "print(\"Classification Report for XG Boost  is\\n {}\".format(classification_report(Y_Test,Y_Pred)))\n"
   ]
  },
  {
   "cell_type": "markdown",
   "metadata": {},
   "source": [
    "## Check for Overfititng on Train data"
   ]
  },
  {
   "cell_type": "code",
   "execution_count": null,
   "metadata": {},
   "outputs": [],
   "source": [
    "Y_PredTrain = xmodel.predict(X_Train)\n",
    "acc = accuracy_score(Y_Train,Y_PredTrain)\n",
    "print(\"Accuarcy of XG Boost  is {}\".format(acc))"
   ]
  },
  {
   "cell_type": "markdown",
   "metadata": {},
   "source": [
    "Both, test and tarin are having same accuracy, So no overfitting"
   ]
  },
  {
   "cell_type": "markdown",
   "metadata": {},
   "source": [
    "# Conclusion:"
   ]
  },
  {
   "cell_type": "markdown",
   "metadata": {},
   "source": [
    "The tuned XGBoost gave the best results on the test set with 91% accuracy"
   ]
  },
  {
   "cell_type": "code",
   "execution_count": null,
   "metadata": {
    "scrolled": true
   },
   "outputs": [],
   "source": [
    "import joblib\n",
    "joblib.dump(xmodel, \"listing_model.h5\")"
   ]
  }
 ],
 "metadata": {
  "kernelspec": {
   "display_name": "Python 3",
   "language": "python",
   "name": "python3"
  },
  "language_info": {
   "codemirror_mode": {
    "name": "ipython",
    "version": 3
   },
   "file_extension": ".py",
   "mimetype": "text/x-python",
   "name": "python",
   "nbconvert_exporter": "python",
   "pygments_lexer": "ipython3",
   "version": "3.7.1"
  }
 },
 "nbformat": 4,
 "nbformat_minor": 2
}
